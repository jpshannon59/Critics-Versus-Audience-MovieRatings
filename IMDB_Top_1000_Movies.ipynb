{
  "nbformat": 4,
  "nbformat_minor": 0,
  "metadata": {
    "colab": {
      "name": "IMDB Top 1000 Movies",
      "provenance": [],
      "collapsed_sections": [],
      "include_colab_link": true
    },
    "kernelspec": {
      "name": "python3",
      "display_name": "Python 3"
    }
  },
  "cells": [
    {
      "cell_type": "markdown",
      "metadata": {
        "id": "view-in-github",
        "colab_type": "text"
      },
      "source": [
        "<a href=\"https://colab.research.google.com/github/jpshannon59/EDAP/blob/main/IMDB_Top_1000_Movies.ipynb\" target=\"_parent\"><img src=\"https://colab.research.google.com/assets/colab-badge.svg\" alt=\"Open In Colab\"/></a>"
      ]
    },
    {
      "cell_type": "markdown",
      "metadata": {
        "id": "40FjLaUS_Rui"
      },
      "source": [
        "##**Part 1: Select and Prepare the Data**"
      ]
    },
    {
      "cell_type": "markdown",
      "metadata": {
        "id": "Mu120a3d_SnY"
      },
      "source": [
        "You should start by picking a topic area of interest to you and finding a dataset that can provide insights into that topic. We have provided some datasets below that you can start from. But we encourage you to investigate a different topic and dataset. If you self-select a dataset and are concerned about its appropriateness for the assignment, you can check with the TAs regarding the same.\n",
        "\n",
        "**Note:** The data collection and preparation (also known as data wrangling) can be a very tedious and time-consuming process. Be sure you have sufficient time to conduct exploratory analysis, after preparing the data.\n",
        "\n",
        "After selecting a topic and dataset – but prior to analysis – you should write down an initial set of at least three questions you’d like to investigate."
      ]
    },
    {
      "cell_type": "markdown",
      "metadata": {
        "id": "_97-jxLqB9NI"
      },
      "source": [
        "## **Part 2: Exploratory Analysis**"
      ]
    },
    {
      "cell_type": "markdown",
      "metadata": {
        "id": "rCbLzkhhCB14"
      },
      "source": [
        "Once you have picked the dataset and performed the initial data wrangling, you will perform exploratory analysis to investigate your data. For this assignment we would like you to use Pandas, NumPy and matplotlib to help you with the analysis. \n",
        "\n",
        "**Phase 1:** You should start the exploration by first examining the shape and structure of your data. What dimensions/variables does it contain and how are the data values distributed? Are there any notable data quality issues? Find out if there are missing values in the data and think of how you can handle them. Are there any surprising relationships between the dimensions/variables? Make sure to perform sanity checks for patterns you expect to see! Note that it may be the case that after doing a bit of exploration in phase 1 you find that your data is not as interesting as you first thought. In such cases you might consider returning to Part 1 and identifying a different dataset to work with. Such iteration on choosing the dataset is common, but also time-consuming, so make sure you leave time in your schedule for this.\n",
        "\n",
        "**Phase 2:** Next, you should investigate your initial questions, as well as any new questions that arise during your exploration. For each question, create a visualization that might provide a useful answer. Then refine the visualization (by adding additional variables, changing the sort ordering or axis scales, filtering or subsetting data, etc.) to develop better perspectives explore unexpected observations, or sanity check your assumptions. You should repeat this process for each of your questions, and also feel free to revise your questions or branch off to explore new questions as the data warrants."
      ]
    },
    {
      "cell_type": "markdown",
      "metadata": {
        "id": "IBgJYVN4AtWN"
      },
      "source": [
        "Importing IMDb Top 1000 Movies "
      ]
    },
    {
      "cell_type": "code",
      "metadata": {
        "colab": {
          "base_uri": "https://localhost:8080/",
          "height": 1000
        },
        "id": "K7AYjxLuPJX-",
        "outputId": "87012549-99e1-488f-f1eb-f1f8d884582c"
      },
      "source": [
        "import pandas\n",
        "import os \n",
        "import seaborn as sns \n",
        "import matplotlib.pyplot as plt\n",
        "df = pandas.read_csv(\"sample_data/imdb_top_1000.csv\")\n",
        "df.set_index(\"Series_Title\", drop=False)\n",
        "df.head(10)"
      ],
      "execution_count": 5,
      "outputs": [
        {
          "output_type": "execute_result",
          "data": {
            "text/html": [
              "<div>\n",
              "<style scoped>\n",
              "    .dataframe tbody tr th:only-of-type {\n",
              "        vertical-align: middle;\n",
              "    }\n",
              "\n",
              "    .dataframe tbody tr th {\n",
              "        vertical-align: top;\n",
              "    }\n",
              "\n",
              "    .dataframe thead th {\n",
              "        text-align: right;\n",
              "    }\n",
              "</style>\n",
              "<table border=\"1\" class=\"dataframe\">\n",
              "  <thead>\n",
              "    <tr style=\"text-align: right;\">\n",
              "      <th></th>\n",
              "      <th>Poster_Link</th>\n",
              "      <th>Series_Title</th>\n",
              "      <th>Released_Year</th>\n",
              "      <th>Certificate</th>\n",
              "      <th>Runtime</th>\n",
              "      <th>Genre</th>\n",
              "      <th>IMDB_Rating</th>\n",
              "      <th>Overview</th>\n",
              "      <th>Meta_score</th>\n",
              "      <th>Director</th>\n",
              "      <th>Star1</th>\n",
              "      <th>Star2</th>\n",
              "      <th>Star3</th>\n",
              "      <th>Star4</th>\n",
              "      <th>No_of_Votes</th>\n",
              "      <th>Gross</th>\n",
              "    </tr>\n",
              "  </thead>\n",
              "  <tbody>\n",
              "    <tr>\n",
              "      <th>0</th>\n",
              "      <td>https://m.media-amazon.com/images/M/MV5BMDFkYT...</td>\n",
              "      <td>The Shawshank Redemption</td>\n",
              "      <td>1994</td>\n",
              "      <td>A</td>\n",
              "      <td>142 min</td>\n",
              "      <td>Drama</td>\n",
              "      <td>9.3</td>\n",
              "      <td>Two imprisoned men bond over a number of years...</td>\n",
              "      <td>80.0</td>\n",
              "      <td>Frank Darabont</td>\n",
              "      <td>Tim Robbins</td>\n",
              "      <td>Morgan Freeman</td>\n",
              "      <td>Bob Gunton</td>\n",
              "      <td>William Sadler</td>\n",
              "      <td>2343110</td>\n",
              "      <td>28,341,469</td>\n",
              "    </tr>\n",
              "    <tr>\n",
              "      <th>1</th>\n",
              "      <td>https://m.media-amazon.com/images/M/MV5BM2MyNj...</td>\n",
              "      <td>The Godfather</td>\n",
              "      <td>1972</td>\n",
              "      <td>A</td>\n",
              "      <td>175 min</td>\n",
              "      <td>Crime, Drama</td>\n",
              "      <td>9.2</td>\n",
              "      <td>An organized crime dynasty's aging patriarch t...</td>\n",
              "      <td>100.0</td>\n",
              "      <td>Francis Ford Coppola</td>\n",
              "      <td>Marlon Brando</td>\n",
              "      <td>Al Pacino</td>\n",
              "      <td>James Caan</td>\n",
              "      <td>Diane Keaton</td>\n",
              "      <td>1620367</td>\n",
              "      <td>134,966,411</td>\n",
              "    </tr>\n",
              "    <tr>\n",
              "      <th>2</th>\n",
              "      <td>https://m.media-amazon.com/images/M/MV5BMTMxNT...</td>\n",
              "      <td>The Dark Knight</td>\n",
              "      <td>2008</td>\n",
              "      <td>UA</td>\n",
              "      <td>152 min</td>\n",
              "      <td>Action, Crime, Drama</td>\n",
              "      <td>9.0</td>\n",
              "      <td>When the menace known as the Joker wreaks havo...</td>\n",
              "      <td>84.0</td>\n",
              "      <td>Christopher Nolan</td>\n",
              "      <td>Christian Bale</td>\n",
              "      <td>Heath Ledger</td>\n",
              "      <td>Aaron Eckhart</td>\n",
              "      <td>Michael Caine</td>\n",
              "      <td>2303232</td>\n",
              "      <td>534,858,444</td>\n",
              "    </tr>\n",
              "    <tr>\n",
              "      <th>3</th>\n",
              "      <td>https://m.media-amazon.com/images/M/MV5BMWMwMG...</td>\n",
              "      <td>The Godfather: Part II</td>\n",
              "      <td>1974</td>\n",
              "      <td>A</td>\n",
              "      <td>202 min</td>\n",
              "      <td>Crime, Drama</td>\n",
              "      <td>9.0</td>\n",
              "      <td>The early life and career of Vito Corleone in ...</td>\n",
              "      <td>90.0</td>\n",
              "      <td>Francis Ford Coppola</td>\n",
              "      <td>Al Pacino</td>\n",
              "      <td>Robert De Niro</td>\n",
              "      <td>Robert Duvall</td>\n",
              "      <td>Diane Keaton</td>\n",
              "      <td>1129952</td>\n",
              "      <td>57,300,000</td>\n",
              "    </tr>\n",
              "    <tr>\n",
              "      <th>4</th>\n",
              "      <td>https://m.media-amazon.com/images/M/MV5BMWU4N2...</td>\n",
              "      <td>12 Angry Men</td>\n",
              "      <td>1957</td>\n",
              "      <td>U</td>\n",
              "      <td>96 min</td>\n",
              "      <td>Crime, Drama</td>\n",
              "      <td>9.0</td>\n",
              "      <td>A jury holdout attempts to prevent a miscarria...</td>\n",
              "      <td>96.0</td>\n",
              "      <td>Sidney Lumet</td>\n",
              "      <td>Henry Fonda</td>\n",
              "      <td>Lee J. Cobb</td>\n",
              "      <td>Martin Balsam</td>\n",
              "      <td>John Fiedler</td>\n",
              "      <td>689845</td>\n",
              "      <td>4,360,000</td>\n",
              "    </tr>\n",
              "    <tr>\n",
              "      <th>5</th>\n",
              "      <td>https://m.media-amazon.com/images/M/MV5BNzA5ZD...</td>\n",
              "      <td>The Lord of the Rings: The Return of the King</td>\n",
              "      <td>2003</td>\n",
              "      <td>U</td>\n",
              "      <td>201 min</td>\n",
              "      <td>Action, Adventure, Drama</td>\n",
              "      <td>8.9</td>\n",
              "      <td>Gandalf and Aragorn lead the World of Men agai...</td>\n",
              "      <td>94.0</td>\n",
              "      <td>Peter Jackson</td>\n",
              "      <td>Elijah Wood</td>\n",
              "      <td>Viggo Mortensen</td>\n",
              "      <td>Ian McKellen</td>\n",
              "      <td>Orlando Bloom</td>\n",
              "      <td>1642758</td>\n",
              "      <td>377,845,905</td>\n",
              "    </tr>\n",
              "    <tr>\n",
              "      <th>6</th>\n",
              "      <td>https://m.media-amazon.com/images/M/MV5BNGNhMD...</td>\n",
              "      <td>Pulp Fiction</td>\n",
              "      <td>1994</td>\n",
              "      <td>A</td>\n",
              "      <td>154 min</td>\n",
              "      <td>Crime, Drama</td>\n",
              "      <td>8.9</td>\n",
              "      <td>The lives of two mob hitmen, a boxer, a gangst...</td>\n",
              "      <td>94.0</td>\n",
              "      <td>Quentin Tarantino</td>\n",
              "      <td>John Travolta</td>\n",
              "      <td>Uma Thurman</td>\n",
              "      <td>Samuel L. Jackson</td>\n",
              "      <td>Bruce Willis</td>\n",
              "      <td>1826188</td>\n",
              "      <td>107,928,762</td>\n",
              "    </tr>\n",
              "    <tr>\n",
              "      <th>7</th>\n",
              "      <td>https://m.media-amazon.com/images/M/MV5BNDE4OT...</td>\n",
              "      <td>Schindler's List</td>\n",
              "      <td>1993</td>\n",
              "      <td>A</td>\n",
              "      <td>195 min</td>\n",
              "      <td>Biography, Drama, History</td>\n",
              "      <td>8.9</td>\n",
              "      <td>In German-occupied Poland during World War II,...</td>\n",
              "      <td>94.0</td>\n",
              "      <td>Steven Spielberg</td>\n",
              "      <td>Liam Neeson</td>\n",
              "      <td>Ralph Fiennes</td>\n",
              "      <td>Ben Kingsley</td>\n",
              "      <td>Caroline Goodall</td>\n",
              "      <td>1213505</td>\n",
              "      <td>96,898,818</td>\n",
              "    </tr>\n",
              "    <tr>\n",
              "      <th>8</th>\n",
              "      <td>https://m.media-amazon.com/images/M/MV5BMjAxMz...</td>\n",
              "      <td>Inception</td>\n",
              "      <td>2010</td>\n",
              "      <td>UA</td>\n",
              "      <td>148 min</td>\n",
              "      <td>Action, Adventure, Sci-Fi</td>\n",
              "      <td>8.8</td>\n",
              "      <td>A thief who steals corporate secrets through t...</td>\n",
              "      <td>74.0</td>\n",
              "      <td>Christopher Nolan</td>\n",
              "      <td>Leonardo DiCaprio</td>\n",
              "      <td>Joseph Gordon-Levitt</td>\n",
              "      <td>Elliot Page</td>\n",
              "      <td>Ken Watanabe</td>\n",
              "      <td>2067042</td>\n",
              "      <td>292,576,195</td>\n",
              "    </tr>\n",
              "    <tr>\n",
              "      <th>9</th>\n",
              "      <td>https://m.media-amazon.com/images/M/MV5BMmEzNT...</td>\n",
              "      <td>Fight Club</td>\n",
              "      <td>1999</td>\n",
              "      <td>A</td>\n",
              "      <td>139 min</td>\n",
              "      <td>Drama</td>\n",
              "      <td>8.8</td>\n",
              "      <td>An insomniac office worker and a devil-may-car...</td>\n",
              "      <td>66.0</td>\n",
              "      <td>David Fincher</td>\n",
              "      <td>Brad Pitt</td>\n",
              "      <td>Edward Norton</td>\n",
              "      <td>Meat Loaf</td>\n",
              "      <td>Zach Grenier</td>\n",
              "      <td>1854740</td>\n",
              "      <td>37,030,102</td>\n",
              "    </tr>\n",
              "  </tbody>\n",
              "</table>\n",
              "</div>"
            ],
            "text/plain": [
              "                                         Poster_Link  ...        Gross\n",
              "0  https://m.media-amazon.com/images/M/MV5BMDFkYT...  ...   28,341,469\n",
              "1  https://m.media-amazon.com/images/M/MV5BM2MyNj...  ...  134,966,411\n",
              "2  https://m.media-amazon.com/images/M/MV5BMTMxNT...  ...  534,858,444\n",
              "3  https://m.media-amazon.com/images/M/MV5BMWMwMG...  ...   57,300,000\n",
              "4  https://m.media-amazon.com/images/M/MV5BMWU4N2...  ...    4,360,000\n",
              "5  https://m.media-amazon.com/images/M/MV5BNzA5ZD...  ...  377,845,905\n",
              "6  https://m.media-amazon.com/images/M/MV5BNGNhMD...  ...  107,928,762\n",
              "7  https://m.media-amazon.com/images/M/MV5BNDE4OT...  ...   96,898,818\n",
              "8  https://m.media-amazon.com/images/M/MV5BMjAxMz...  ...  292,576,195\n",
              "9  https://m.media-amazon.com/images/M/MV5BMmEzNT...  ...   37,030,102\n",
              "\n",
              "[10 rows x 16 columns]"
            ]
          },
          "metadata": {
            "tags": []
          },
          "execution_count": 5
        }
      ]
    },
    {
      "cell_type": "code",
      "metadata": {
        "colab": {
          "base_uri": "https://localhost:8080/"
        },
        "id": "IXR-NodOR4NI",
        "outputId": "69b83533-eb10-4136-fc1d-ea7ed753a22a"
      },
      "source": [
        "print(\"number of rows\", len(df))\n",
        "df.columns"
      ],
      "execution_count": 6,
      "outputs": [
        {
          "output_type": "stream",
          "text": [
            "number of rows 1000\n"
          ],
          "name": "stdout"
        },
        {
          "output_type": "execute_result",
          "data": {
            "text/plain": [
              "Index(['Poster_Link', 'Series_Title', 'Released_Year', 'Certificate',\n",
              "       'Runtime', 'Genre', 'IMDB_Rating', 'Overview', 'Meta_score', 'Director',\n",
              "       'Star1', 'Star2', 'Star3', 'Star4', 'No_of_Votes', 'Gross'],\n",
              "      dtype='object')"
            ]
          },
          "metadata": {
            "tags": []
          },
          "execution_count": 6
        }
      ]
    },
    {
      "cell_type": "markdown",
      "metadata": {
        "id": "9VO9BE_qBDTC"
      },
      "source": [
        "Finding missing values "
      ]
    },
    {
      "cell_type": "code",
      "metadata": {
        "colab": {
          "base_uri": "https://localhost:8080/"
        },
        "id": "CL5I-UvNTJz5",
        "outputId": "9661de5a-af96-4e47-9f47-ae70432652ef"
      },
      "source": [
        "print(\"Number of missing values for each column.\")\n",
        "df.isnull().sum()\n"
      ],
      "execution_count": 7,
      "outputs": [
        {
          "output_type": "stream",
          "text": [
            "Number of missing values for each column.\n"
          ],
          "name": "stdout"
        },
        {
          "output_type": "execute_result",
          "data": {
            "text/plain": [
              "Poster_Link        0\n",
              "Series_Title       0\n",
              "Released_Year      0\n",
              "Certificate      101\n",
              "Runtime            0\n",
              "Genre              0\n",
              "IMDB_Rating        0\n",
              "Overview           0\n",
              "Meta_score       157\n",
              "Director           0\n",
              "Star1              0\n",
              "Star2              0\n",
              "Star3              0\n",
              "Star4              0\n",
              "No_of_Votes        0\n",
              "Gross            169\n",
              "dtype: int64"
            ]
          },
          "metadata": {
            "tags": []
          },
          "execution_count": 7
        }
      ]
    },
    {
      "cell_type": "markdown",
      "metadata": {
        "id": "G25B-ou2BaVp"
      },
      "source": [
        "Descriptive statistics for each column"
      ]
    },
    {
      "cell_type": "code",
      "metadata": {
        "colab": {
          "base_uri": "https://localhost:8080/"
        },
        "id": "7i7vTbL9UVFw",
        "outputId": "9490d7d4-506b-4903-c82c-9e9933930f67"
      },
      "source": [
        "for col in df.columns:\n",
        "  print(\"Descriptive statistics for\", col)\n",
        "  print(df[col].describe())\n",
        "  print(\"\\n\\n\")"
      ],
      "execution_count": 8,
      "outputs": [
        {
          "output_type": "stream",
          "text": [
            "Descriptive statistics for Poster_Link\n",
            "count                                                  1000\n",
            "unique                                                 1000\n",
            "top       https://m.media-amazon.com/images/M/MV5BMTQ0Nj...\n",
            "freq                                                      1\n",
            "Name: Poster_Link, dtype: object\n",
            "\n",
            "\n",
            "\n",
            "Descriptive statistics for Series_Title\n",
            "count         1000\n",
            "unique         999\n",
            "top       Drishyam\n",
            "freq             2\n",
            "Name: Series_Title, dtype: object\n",
            "\n",
            "\n",
            "\n",
            "Descriptive statistics for Released_Year\n",
            "count     1000\n",
            "unique     100\n",
            "top       2014\n",
            "freq        32\n",
            "Name: Released_Year, dtype: object\n",
            "\n",
            "\n",
            "\n",
            "Descriptive statistics for Certificate\n",
            "count     899\n",
            "unique     16\n",
            "top         U\n",
            "freq      234\n",
            "Name: Certificate, dtype: object\n",
            "\n",
            "\n",
            "\n",
            "Descriptive statistics for Runtime\n",
            "count        1000\n",
            "unique        140\n",
            "top       130 min\n",
            "freq           23\n",
            "Name: Runtime, dtype: object\n",
            "\n",
            "\n",
            "\n",
            "Descriptive statistics for Genre\n",
            "count      1000\n",
            "unique      202\n",
            "top       Drama\n",
            "freq         85\n",
            "Name: Genre, dtype: object\n",
            "\n",
            "\n",
            "\n",
            "Descriptive statistics for IMDB_Rating\n",
            "count    1000.000000\n",
            "mean        7.949300\n",
            "std         0.275491\n",
            "min         7.600000\n",
            "25%         7.700000\n",
            "50%         7.900000\n",
            "75%         8.100000\n",
            "max         9.300000\n",
            "Name: IMDB_Rating, dtype: float64\n",
            "\n",
            "\n",
            "\n",
            "Descriptive statistics for Overview\n",
            "count                                                  1000\n",
            "unique                                                 1000\n",
            "top       A substitute teacher who drifts from classroom...\n",
            "freq                                                      1\n",
            "Name: Overview, dtype: object\n",
            "\n",
            "\n",
            "\n",
            "Descriptive statistics for Meta_score\n",
            "count    843.000000\n",
            "mean      77.971530\n",
            "std       12.376099\n",
            "min       28.000000\n",
            "25%       70.000000\n",
            "50%       79.000000\n",
            "75%       87.000000\n",
            "max      100.000000\n",
            "Name: Meta_score, dtype: float64\n",
            "\n",
            "\n",
            "\n",
            "Descriptive statistics for Director\n",
            "count                 1000\n",
            "unique                 548\n",
            "top       Alfred Hitchcock\n",
            "freq                    14\n",
            "Name: Director, dtype: object\n",
            "\n",
            "\n",
            "\n",
            "Descriptive statistics for Star1\n",
            "count          1000\n",
            "unique          660\n",
            "top       Tom Hanks\n",
            "freq             12\n",
            "Name: Star1, dtype: object\n",
            "\n",
            "\n",
            "\n",
            "Descriptive statistics for Star2\n",
            "count            1000\n",
            "unique            841\n",
            "top       Emma Watson\n",
            "freq                7\n",
            "Name: Star2, dtype: object\n",
            "\n",
            "\n",
            "\n",
            "Descriptive statistics for Star3\n",
            "count             1000\n",
            "unique             891\n",
            "top       Rupert Grint\n",
            "freq                 5\n",
            "Name: Star3, dtype: object\n",
            "\n",
            "\n",
            "\n",
            "Descriptive statistics for Star4\n",
            "count              1000\n",
            "unique              939\n",
            "top       Michael Caine\n",
            "freq                  4\n",
            "Name: Star4, dtype: object\n",
            "\n",
            "\n",
            "\n",
            "Descriptive statistics for No_of_Votes\n",
            "count    1.000000e+03\n",
            "mean     2.736929e+05\n",
            "std      3.273727e+05\n",
            "min      2.508800e+04\n",
            "25%      5.552625e+04\n",
            "50%      1.385485e+05\n",
            "75%      3.741612e+05\n",
            "max      2.343110e+06\n",
            "Name: No_of_Votes, dtype: float64\n",
            "\n",
            "\n",
            "\n",
            "Descriptive statistics for Gross\n",
            "count           831\n",
            "unique          823\n",
            "top       4,360,000\n",
            "freq              5\n",
            "Name: Gross, dtype: object\n",
            "\n",
            "\n",
            "\n"
          ],
          "name": "stdout"
        }
      ]
    },
    {
      "cell_type": "markdown",
      "metadata": {
        "id": "ZkPVVwJtBnRV"
      },
      "source": [
        "Distribution of Meta Scores throughout top thousand movies"
      ]
    },
    {
      "cell_type": "code",
      "metadata": {
        "colab": {
          "base_uri": "https://localhost:8080/",
          "height": 494
        },
        "id": "ttTjIH89bvPs",
        "outputId": "48d0666d-8f75-4d51-c1df-42e8ccf77e94"
      },
      "source": [
        "plt.figure(figsize=(10,5))\n",
        "sns.set(font_scale = 1.2)\n",
        "\n",
        "chart = sns.catplot( x='Meta_score',\n",
        "             kind=\"count\", \n",
        "             height=8, \n",
        "             aspect=1.5, \n",
        "             data=df)\n",
        "chart.set_xticklabels(rotation=90)\n"
      ],
      "execution_count": 34,
      "outputs": [
        {
          "output_type": "execute_result",
          "data": {
            "text/plain": [
              "<seaborn.axisgrid.FacetGrid at 0x7f9db8cd9d90>"
            ]
          },
          "metadata": {
            "tags": []
          },
          "execution_count": 34
        },
        {
          "output_type": "display_data",
          "data": {
            "text/plain": [
              "<Figure size 720x360 with 0 Axes>"
            ]
          },
          "metadata": {
            "tags": []
          }
        },
        {
          "output_type": "display_data",
          "data": {
            "image/png": "[encoded data removed]",
            "text/plain": [
              "<Figure size 864x576 with 1 Axes>"
            ]
          },
          "metadata": {
            "tags": []
          }
        }
      ]
    },
    {
      "cell_type": "markdown",
      "metadata": {
        "id": "qlmuGhgJCCN3"
      },
      "source": [
        "Number of movies released each year"
      ]
    },
    {
      "cell_type": "code",
      "metadata": {
        "colab": {
          "base_uri": "https://localhost:8080/",
          "height": 668
        },
        "id": "rJMPaQpNhvsR",
        "outputId": "6762d7cf-61df-4f6c-c2c0-298a1bbf83fe"
      },
      "source": [
        "plt.figure(figsize=(10,5))\n",
        "sns.set(font_scale = 0.8)\n",
        "\n",
        "chart = sns.catplot( x='Released_Year',\n",
        "             kind=\"count\", \n",
        "             height=8, \n",
        "             aspect=1.5, \n",
        "             data=df, order=sorted(set(df['Released_Year'])))\n",
        "chart.set_xticklabels(rotation=90)"
      ],
      "execution_count": 29,
      "outputs": [
        {
          "output_type": "execute_result",
          "data": {
            "text/plain": [
              "<seaborn.axisgrid.FacetGrid at 0x7f9db9a168d0>"
            ]
          },
          "metadata": {
            "tags": []
          },
          "execution_count": 29
        },
        {
          "output_type": "display_data",
          "data": {
            "text/plain": [
              "<Figure size 720x360 with 0 Axes>"
            ]
          },
          "metadata": {
            "tags": []
          }
        },
        {
          "output_type": "display_data",
          "data": {
            "image/png": "[encoded data removed]",
            "text/plain": [
              "<Figure size 864x576 with 1 Axes>"
            ]
          },
          "metadata": {
            "tags": []
          }
        }
      ]
    },
    {
      "cell_type": "markdown",
      "metadata": {
        "id": "QyBhgrZrCJYq"
      },
      "source": [
        "Average Meta Score of movies on the list grouped by year "
      ]
    },
    {
      "cell_type": "code",
      "metadata": {
        "colab": {
          "base_uri": "https://localhost:8080/",
          "height": 503
        },
        "id": "71sio2DukNOl",
        "outputId": "3fc7632d-8fc4-4ccc-9e30-bebb473e12c1"
      },
      "source": [
        "mean_scores = df.groupby(\"Released_Year\")['Meta_score'].agg(\"mean\")\n",
        "plt.figure(figsize=(15,7))\n",
        "# ax = sns.barplot(x = \"Released_Year\", y = \"Meta_score\", data = df)\n",
        "# ax.set(xlabel=\"Released Year\", ylabel = \"Meta Score\")\n",
        "sns.set(font_scale = 1)\n",
        "chart = sns.barplot(mean_scores.index, mean_scores.values)\n",
        "chart.set(xlabel=\"Year Released\", ylabel = \"Meta Score\")\n",
        "plt.xticks(rotation=90)"
      ],
      "execution_count": 31,
      "outputs": [
        {
          "output_type": "stream",
          "text": [
            "/usr/local/lib/python3.7/dist-packages/seaborn/_decorators.py:43: FutureWarning: Pass the following variables as keyword args: x, y. From version 0.12, the only valid positional argument will be `data`, and passing other arguments without an explicit keyword will result in an error or misinterpretation.\n",
            "  FutureWarning\n"
          ],
          "name": "stderr"
        },
        {
          "output_type": "execute_result",
          "data": {
            "text/plain": [
              "(array([ 0,  1,  2,  3,  4,  5,  6,  7,  8,  9, 10, 11, 12, 13, 14, 15, 16,\n",
              "        17, 18, 19, 20, 21, 22, 23, 24, 25, 26, 27, 28, 29, 30, 31, 32, 33,\n",
              "        34, 35, 36, 37, 38, 39, 40, 41, 42, 43, 44, 45, 46, 47, 48, 49, 50,\n",
              "        51, 52, 53, 54, 55, 56, 57, 58, 59, 60, 61, 62, 63, 64, 65, 66, 67,\n",
              "        68, 69, 70, 71, 72, 73, 74, 75, 76, 77, 78, 79, 80, 81, 82, 83, 84,\n",
              "        85, 86, 87, 88, 89, 90, 91, 92, 93, 94, 95, 96, 97, 98, 99]),\n",
              " <a list of 100 Text major ticklabel objects>)"
            ]
          },
          "metadata": {
            "tags": []
          },
          "execution_count": 31
        },
        {
          "output_type": "display_data",
          "data": {
            "image/png": "[encoded data removed]",
            "text/plain": [
              "<Figure size 1080x504 with 1 Axes>"
            ]
          },
          "metadata": {
            "tags": []
          }
        }
      ]
    },
    {
      "cell_type": "markdown",
      "metadata": {
        "id": "WJ_yjYniCY5o"
      },
      "source": [
        "Average IMDb Score of movies on the list grouped by year"
      ]
    },
    {
      "cell_type": "code",
      "metadata": {
        "colab": {
          "base_uri": "https://localhost:8080/",
          "height": 434
        },
        "id": "ssG4_HS253Gm",
        "outputId": "a9d16569-0639-4e44-c492-36fe6506c59a"
      },
      "source": [
        "mean_rating = df.groupby(\"Released_Year\")['IMDB_Rating'].agg(\"mean\")\n",
        "plt.figure(figsize=(20,7))\n",
        "sns.set(font_scale = 1.17)\n",
        "chart = sns.barplot(mean_rating.index, mean_rating.values)\n",
        "chart.set(xlabel=\"Year Released\", ylabel = \"IMDB Rating\")\n",
        "plt.xticks(rotation=90)"
      ],
      "execution_count": 32,
      "outputs": [
        {
          "output_type": "stream",
          "text": [
            "/usr/local/lib/python3.7/dist-packages/seaborn/_decorators.py:43: FutureWarning: Pass the following variables as keyword args: x, y. From version 0.12, the only valid positional argument will be `data`, and passing other arguments without an explicit keyword will result in an error or misinterpretation.\n",
            "  FutureWarning\n"
          ],
          "name": "stderr"
        },
        {
          "output_type": "execute_result",
          "data": {
            "text/plain": [
              "(array([ 0,  1,  2,  3,  4,  5,  6,  7,  8,  9, 10, 11, 12, 13, 14, 15, 16,\n",
              "        17, 18, 19, 20, 21, 22, 23, 24, 25, 26, 27, 28, 29, 30, 31, 32, 33,\n",
              "        34, 35, 36, 37, 38, 39, 40, 41, 42, 43, 44, 45, 46, 47, 48, 49, 50,\n",
              "        51, 52, 53, 54, 55, 56, 57, 58, 59, 60, 61, 62, 63, 64, 65, 66, 67,\n",
              "        68, 69, 70, 71, 72, 73, 74, 75, 76, 77, 78, 79, 80, 81, 82, 83, 84,\n",
              "        85, 86, 87, 88, 89, 90, 91, 92, 93, 94, 95, 96, 97, 98, 99]),\n",
              " <a list of 100 Text major ticklabel objects>)"
            ]
          },
          "metadata": {
            "tags": []
          },
          "execution_count": 32
        },
        {
          "output_type": "display_data",
          "data": {
            "image/png": "[encoded data removed]",
            "text/plain": [
              "<Figure size 1440x504 with 1 Axes>"
            ]
          },
          "metadata": {
            "tags": []
          }
        }
      ]
    },
    {
      "cell_type": "markdown",
      "metadata": {
        "id": "tH6ksDzcCppj"
      },
      "source": [
        ""
      ]
    },
    {
      "cell_type": "code",
      "metadata": {
        "colab": {
          "base_uri": "https://localhost:8080/",
          "height": 493
        },
        "id": "thvb6Cn3sHIH",
        "outputId": "935620d5-5c27-4f6b-e6e4-b39ddd929c01"
      },
      "source": [
        "df[\"Gross_int\"] = df[\"Gross\"].str.replace(\",\", \"\").astype(float)\n",
        "total_gross = df.groupby(\"Released_Year\")['Gross_int'].agg(\"sum\")\n",
        "plt.figure(figsize=(20,7))\n",
        "sns.set(font_scale = 1.17)\n",
        "chart = sns.barplot(total_gross.index, total_gross.values)\n",
        "plt.xticks(rotation=90)\n"
      ],
      "execution_count": null,
      "outputs": [
        {
          "output_type": "stream",
          "text": [
            "/usr/local/lib/python3.7/dist-packages/seaborn/_decorators.py:43: FutureWarning: Pass the following variables as keyword args: x, y. From version 0.12, the only valid positional argument will be `data`, and passing other arguments without an explicit keyword will result in an error or misinterpretation.\n",
            "  FutureWarning\n"
          ],
          "name": "stderr"
        },
        {
          "output_type": "execute_result",
          "data": {
            "text/plain": [
              "(array([ 0,  1,  2,  3,  4,  5,  6,  7,  8,  9, 10, 11, 12, 13, 14, 15, 16,\n",
              "        17, 18, 19, 20, 21, 22, 23, 24, 25, 26, 27, 28, 29, 30, 31, 32, 33,\n",
              "        34, 35, 36, 37, 38, 39, 40, 41, 42, 43, 44, 45, 46, 47, 48, 49, 50,\n",
              "        51, 52, 53, 54, 55, 56, 57, 58, 59, 60, 61, 62, 63, 64, 65, 66, 67,\n",
              "        68, 69, 70, 71, 72, 73, 74, 75, 76, 77, 78, 79, 80, 81, 82, 83, 84,\n",
              "        85, 86, 87, 88, 89, 90, 91, 92, 93, 94, 95, 96, 97, 98, 99]),\n",
              " <a list of 100 Text major ticklabel objects>)"
            ]
          },
          "metadata": {
            "tags": []
          },
          "execution_count": 24
        },
        {
          "output_type": "display_data",
          "data": {
            "image/png": "[encoded data removed]",
            "text/plain": [
              "<Figure size 1440x504 with 1 Axes>"
            ]
          },
          "metadata": {
            "tags": []
          }
        }
      ]
    },
    {
      "cell_type": "markdown",
      "metadata": {
        "id": "wi2PWRDd8Oly"
      },
      "source": [
        ""
      ]
    },
    {
      "cell_type": "code",
      "metadata": {
        "colab": {
          "base_uri": "https://localhost:8080/",
          "height": 484
        },
        "id": "pxGuzN-972kb",
        "outputId": "9c8061c7-833d-4c97-f4c8-669310e084a4"
      },
      "source": [
        "df[\"Runtime_minutes\"] = df[\"Runtime\"].str.replace(\"min\", \"\").astype(int)\n",
        "avg_length = df.groupby(\"Released_Year\")['Runtime_minutes'].agg(\"mean\")\n",
        "plt.figure(figsize=(20,7))\n",
        "sns.set(font_scale = 1.17)\n",
        "chart = sns.barplot(avg_length.index, avg_length.values)\n",
        "plt.xticks(rotation=90)"
      ],
      "execution_count": null,
      "outputs": [
        {
          "output_type": "stream",
          "text": [
            "/usr/local/lib/python3.7/dist-packages/seaborn/_decorators.py:43: FutureWarning: Pass the following variables as keyword args: x, y. From version 0.12, the only valid positional argument will be `data`, and passing other arguments without an explicit keyword will result in an error or misinterpretation.\n",
            "  FutureWarning\n"
          ],
          "name": "stderr"
        },
        {
          "output_type": "execute_result",
          "data": {
            "text/plain": [
              "(array([ 0,  1,  2,  3,  4,  5,  6,  7,  8,  9, 10, 11, 12, 13, 14, 15, 16,\n",
              "        17, 18, 19, 20, 21, 22, 23, 24, 25, 26, 27, 28, 29, 30, 31, 32, 33,\n",
              "        34, 35, 36, 37, 38, 39, 40, 41, 42, 43, 44, 45, 46, 47, 48, 49, 50,\n",
              "        51, 52, 53, 54, 55, 56, 57, 58, 59, 60, 61, 62, 63, 64, 65, 66, 67,\n",
              "        68, 69, 70, 71, 72, 73, 74, 75, 76, 77, 78, 79, 80, 81, 82, 83, 84,\n",
              "        85, 86, 87, 88, 89, 90, 91, 92, 93, 94, 95, 96, 97, 98, 99]),\n",
              " <a list of 100 Text major ticklabel objects>)"
            ]
          },
          "metadata": {
            "tags": []
          },
          "execution_count": 27
        },
        {
          "output_type": "display_data",
          "data": {
            "image/png": "[encoded data removed]",
            "text/plain": [
              "<Figure size 1440x504 with 1 Axes>"
            ]
          },
          "metadata": {
            "tags": []
          }
        }
      ]
    },
    {
      "cell_type": "code",
      "metadata": {
        "colab": {
          "base_uri": "https://localhost:8080/",
          "height": 343
        },
        "id": "54lsb0WC9Smw",
        "outputId": "876ce43a-4844-44e6-a3c8-e541d77e523d"
      },
      "source": [
        "df.plot.scatter(x = \"IMDB_Rating\", y = \"Meta_score\")\n"
      ],
      "execution_count": null,
      "outputs": [
        {
          "output_type": "stream",
          "text": [
            "*c* argument looks like a single numeric RGB or RGBA sequence, which should be avoided as value-mapping will have precedence in case its length matches with *x* & *y*.  Please use the *color* keyword-argument or provide a 2-D array with a single row if you intend to specify the same RGB or RGBA value for all points.\n"
          ],
          "name": "stderr"
        },
        {
          "output_type": "execute_result",
          "data": {
            "text/plain": [
              "<matplotlib.axes._subplots.AxesSubplot at 0x7f68af103790>"
            ]
          },
          "metadata": {
            "tags": []
          },
          "execution_count": 36
        },
        {
          "output_type": "display_data",
          "data": {
            "image/png": "[encoded data removed]",
            "text/plain": [
              "<Figure size 432x288 with 1 Axes>"
            ]
          },
          "metadata": {
            "tags": []
          }
        }
      ]
    },
    {
      "cell_type": "code",
      "metadata": {
        "colab": {
          "base_uri": "https://localhost:8080/",
          "height": 306
        },
        "id": "FgPTR-KIDMaN",
        "outputId": "ab37f0ce-f77a-4502-eec4-1319d9b1d242"
      },
      "source": [
        "sns.scatterplot(data=df.iloc[0:100], x=\"IMDB_Rating\", y=\"Meta_score\", \"hue = \"Gross_int)"
      ],
      "execution_count": 33,
      "outputs": [
        {
          "output_type": "execute_result",
          "data": {
            "text/plain": [
              "<matplotlib.axes._subplots.AxesSubplot at 0x7f9db8fd2f10>"
            ]
          },
          "metadata": {
            "tags": []
          },
          "execution_count": 33
        },
        {
          "output_type": "display_data",
          "data": {
            "image/png": "[encoded data removed]",
            "text/plain": [
              "<Figure size 432x288 with 1 Axes>"
            ]
          },
          "metadata": {
            "tags": []
          }
        }
      ]
    },
    {
      "cell_type": "code",
      "metadata": {
        "colab": {
          "base_uri": "https://localhost:8080/",
          "height": 669
        },
        "id": "OmK-zImJ_rj5",
        "outputId": "e2f8bc7d-0827-4da7-cd7b-83bea7527725"
      },
      "source": [
        "df[\"Popular Versus Expert\"] = (df[\"IMDB_Rating\"] * 10) - df[\"Meta_score\"] \n",
        "# df.nlargest(10, \"Popular Versus Expert\")\n",
        "df[ [\"Series_Title\", \"Popular Versus Expert\", \"Gross\", \"Released_Year\"] ].nlargest(20, \"Popular Versus Expert\")"
      ],
      "execution_count": null,
      "outputs": [
        {
          "output_type": "execute_result",
          "data": {
            "text/html": [
              "<div>\n",
              "<style scoped>\n",
              "    .dataframe tbody tr th:only-of-type {\n",
              "        vertical-align: middle;\n",
              "    }\n",
              "\n",
              "    .dataframe tbody tr th {\n",
              "        vertical-align: top;\n",
              "    }\n",
              "\n",
              "    .dataframe thead th {\n",
              "        text-align: right;\n",
              "    }\n",
              "</style>\n",
              "<table border=\"1\" class=\"dataframe\">\n",
              "  <thead>\n",
              "    <tr style=\"text-align: right;\">\n",
              "      <th></th>\n",
              "      <th>Series_Title</th>\n",
              "      <th>Popular Versus Expert</th>\n",
              "      <th>Gross</th>\n",
              "      <th>Released_Year</th>\n",
              "    </tr>\n",
              "  </thead>\n",
              "  <tbody>\n",
              "    <tr>\n",
              "      <th>788</th>\n",
              "      <td>I Am Sam</td>\n",
              "      <td>49.0</td>\n",
              "      <td>40,311,852</td>\n",
              "      <td>2001</td>\n",
              "    </tr>\n",
              "    <tr>\n",
              "      <th>356</th>\n",
              "      <td>Tropa de Elite</td>\n",
              "      <td>47.0</td>\n",
              "      <td>8,060</td>\n",
              "      <td>2007</td>\n",
              "    </tr>\n",
              "    <tr>\n",
              "      <th>942</th>\n",
              "      <td>The Butterfly Effect</td>\n",
              "      <td>46.0</td>\n",
              "      <td>57,938,693</td>\n",
              "      <td>2004</td>\n",
              "    </tr>\n",
              "    <tr>\n",
              "      <th>917</th>\n",
              "      <td>Seven Pounds</td>\n",
              "      <td>40.0</td>\n",
              "      <td>69,951,824</td>\n",
              "      <td>2008</td>\n",
              "    </tr>\n",
              "    <tr>\n",
              "      <th>735</th>\n",
              "      <td>Kai po che!</td>\n",
              "      <td>37.0</td>\n",
              "      <td>1,122,527</td>\n",
              "      <td>2013</td>\n",
              "    </tr>\n",
              "    <tr>\n",
              "      <th>957</th>\n",
              "      <td>Fear and Loathing in Las Vegas</td>\n",
              "      <td>35.0</td>\n",
              "      <td>10,680,275</td>\n",
              "      <td>1998</td>\n",
              "    </tr>\n",
              "    <tr>\n",
              "      <th>272</th>\n",
              "      <td>Pink Floyd: The Wall</td>\n",
              "      <td>34.0</td>\n",
              "      <td>22,244,207</td>\n",
              "      <td>1982</td>\n",
              "    </tr>\n",
              "    <tr>\n",
              "      <th>648</th>\n",
              "      <td>The Boondock Saints</td>\n",
              "      <td>34.0</td>\n",
              "      <td>25,812</td>\n",
              "      <td>1999</td>\n",
              "    </tr>\n",
              "    <tr>\n",
              "      <th>397</th>\n",
              "      <td>Bound by Honor</td>\n",
              "      <td>33.0</td>\n",
              "      <td>4,496,583</td>\n",
              "      <td>1993</td>\n",
              "    </tr>\n",
              "    <tr>\n",
              "      <th>677</th>\n",
              "      <td>Predator</td>\n",
              "      <td>33.0</td>\n",
              "      <td>59,735,548</td>\n",
              "      <td>1987</td>\n",
              "    </tr>\n",
              "    <tr>\n",
              "      <th>760</th>\n",
              "      <td>Flipped</td>\n",
              "      <td>32.0</td>\n",
              "      <td>1,752,214</td>\n",
              "      <td>2010</td>\n",
              "    </tr>\n",
              "    <tr>\n",
              "      <th>342</th>\n",
              "      <td>Bohemian Rhapsody</td>\n",
              "      <td>31.0</td>\n",
              "      <td>216,428,042</td>\n",
              "      <td>2018</td>\n",
              "    </tr>\n",
              "    <tr>\n",
              "      <th>935</th>\n",
              "      <td>Jeux d'enfants</td>\n",
              "      <td>31.0</td>\n",
              "      <td>548,707</td>\n",
              "      <td>2003</td>\n",
              "    </tr>\n",
              "    <tr>\n",
              "      <th>352</th>\n",
              "      <td>My Name Is Khan</td>\n",
              "      <td>30.0</td>\n",
              "      <td>4,018,695</td>\n",
              "      <td>2010</td>\n",
              "    </tr>\n",
              "    <tr>\n",
              "      <th>644</th>\n",
              "      <td>Remember the Titans</td>\n",
              "      <td>30.0</td>\n",
              "      <td>115,654,751</td>\n",
              "      <td>2000</td>\n",
              "    </tr>\n",
              "    <tr>\n",
              "      <th>782</th>\n",
              "      <td>Man on Fire</td>\n",
              "      <td>30.0</td>\n",
              "      <td>77,911,774</td>\n",
              "      <td>2004</td>\n",
              "    </tr>\n",
              "    <tr>\n",
              "      <th>811</th>\n",
              "      <td>Primal Fear</td>\n",
              "      <td>30.0</td>\n",
              "      <td>56,116,183</td>\n",
              "      <td>1996</td>\n",
              "    </tr>\n",
              "    <tr>\n",
              "      <th>932</th>\n",
              "      <td>Saw</td>\n",
              "      <td>30.0</td>\n",
              "      <td>56,000,369</td>\n",
              "      <td>2004</td>\n",
              "    </tr>\n",
              "    <tr>\n",
              "      <th>597</th>\n",
              "      <td>La migliore offerta</td>\n",
              "      <td>29.0</td>\n",
              "      <td>85,433</td>\n",
              "      <td>2013</td>\n",
              "    </tr>\n",
              "    <tr>\n",
              "      <th>35</th>\n",
              "      <td>The Intouchables</td>\n",
              "      <td>28.0</td>\n",
              "      <td>13,182,281</td>\n",
              "      <td>2011</td>\n",
              "    </tr>\n",
              "  </tbody>\n",
              "</table>\n",
              "</div>"
            ],
            "text/plain": [
              "                       Series_Title  ...  Released_Year\n",
              "788                        I Am Sam  ...           2001\n",
              "356                  Tropa de Elite  ...           2007\n",
              "942            The Butterfly Effect  ...           2004\n",
              "917                    Seven Pounds  ...           2008\n",
              "735                     Kai po che!  ...           2013\n",
              "957  Fear and Loathing in Las Vegas  ...           1998\n",
              "272            Pink Floyd: The Wall  ...           1982\n",
              "648             The Boondock Saints  ...           1999\n",
              "397                  Bound by Honor  ...           1993\n",
              "677                        Predator  ...           1987\n",
              "760                         Flipped  ...           2010\n",
              "342               Bohemian Rhapsody  ...           2018\n",
              "935                  Jeux d'enfants  ...           2003\n",
              "352                 My Name Is Khan  ...           2010\n",
              "644             Remember the Titans  ...           2000\n",
              "782                     Man on Fire  ...           2004\n",
              "811                     Primal Fear  ...           1996\n",
              "932                             Saw  ...           2004\n",
              "597             La migliore offerta  ...           2013\n",
              "35                 The Intouchables  ...           2011\n",
              "\n",
              "[20 rows x 4 columns]"
            ]
          },
          "metadata": {
            "tags": []
          },
          "execution_count": 30
        }
      ]
    },
    {
      "cell_type": "code",
      "metadata": {
        "colab": {
          "base_uri": "https://localhost:8080/",
          "height": 669
        },
        "id": "EMP7aVqzCe7B",
        "outputId": "c43262c5-f2ba-4987-fccd-7e53b00a2546"
      },
      "source": [
        "df[ [\"Series_Title\", \"Popular Versus Expert\", \"Gross\", \"Released_Year\"] ].nsmallest(20, \"Popular Versus Expert\")"
      ],
      "execution_count": null,
      "outputs": [
        {
          "output_type": "execute_result",
          "data": {
            "text/html": [
              "<div>\n",
              "<style scoped>\n",
              "    .dataframe tbody tr th:only-of-type {\n",
              "        vertical-align: middle;\n",
              "    }\n",
              "\n",
              "    .dataframe tbody tr th {\n",
              "        vertical-align: top;\n",
              "    }\n",
              "\n",
              "    .dataframe thead th {\n",
              "        text-align: right;\n",
              "    }\n",
              "</style>\n",
              "<table border=\"1\" class=\"dataframe\">\n",
              "  <thead>\n",
              "    <tr style=\"text-align: right;\">\n",
              "      <th></th>\n",
              "      <th>Series_Title</th>\n",
              "      <th>Popular Versus Expert</th>\n",
              "      <th>Gross</th>\n",
              "      <th>Released_Year</th>\n",
              "    </tr>\n",
              "  </thead>\n",
              "  <tbody>\n",
              "    <tr>\n",
              "      <th>491</th>\n",
              "      <td>Boyhood</td>\n",
              "      <td>-21.0</td>\n",
              "      <td>25,379,975</td>\n",
              "      <td>2014</td>\n",
              "    </tr>\n",
              "    <tr>\n",
              "      <th>559</th>\n",
              "      <td>Notorious</td>\n",
              "      <td>-21.0</td>\n",
              "      <td>10,464,000</td>\n",
              "      <td>1946</td>\n",
              "    </tr>\n",
              "    <tr>\n",
              "      <th>423</th>\n",
              "      <td>Il conformista</td>\n",
              "      <td>-20.0</td>\n",
              "      <td>541,940</td>\n",
              "      <td>1970</td>\n",
              "    </tr>\n",
              "    <tr>\n",
              "      <th>440</th>\n",
              "      <td>Sweet Smell of Success</td>\n",
              "      <td>-20.0</td>\n",
              "      <td>NaN</td>\n",
              "      <td>1957</td>\n",
              "    </tr>\n",
              "    <tr>\n",
              "      <th>714</th>\n",
              "      <td>The Lady Vanishes</td>\n",
              "      <td>-20.0</td>\n",
              "      <td>NaN</td>\n",
              "      <td>1938</td>\n",
              "    </tr>\n",
              "    <tr>\n",
              "      <th>994</th>\n",
              "      <td>A Hard Day's Night</td>\n",
              "      <td>-20.0</td>\n",
              "      <td>13,780,024</td>\n",
              "      <td>1964</td>\n",
              "    </tr>\n",
              "    <tr>\n",
              "      <th>260</th>\n",
              "      <td>Trois couleurs: Rouge</td>\n",
              "      <td>-19.0</td>\n",
              "      <td>4,043,686</td>\n",
              "      <td>1994</td>\n",
              "    </tr>\n",
              "    <tr>\n",
              "      <th>274</th>\n",
              "      <td>Fanny och Alexander</td>\n",
              "      <td>-19.0</td>\n",
              "      <td>4,971,340</td>\n",
              "      <td>1982</td>\n",
              "    </tr>\n",
              "    <tr>\n",
              "      <th>438</th>\n",
              "      <td>Touch of Evil</td>\n",
              "      <td>-19.0</td>\n",
              "      <td>2,237,659</td>\n",
              "      <td>1958</td>\n",
              "    </tr>\n",
              "    <tr>\n",
              "      <th>442</th>\n",
              "      <td>The Night of the Hunter</td>\n",
              "      <td>-19.0</td>\n",
              "      <td>654,000</td>\n",
              "      <td>1955</td>\n",
              "    </tr>\n",
              "    <tr>\n",
              "      <th>706</th>\n",
              "      <td>Jules et Jim</td>\n",
              "      <td>-19.0</td>\n",
              "      <td>NaN</td>\n",
              "      <td>1962</td>\n",
              "    </tr>\n",
              "    <tr>\n",
              "      <th>720</th>\n",
              "      <td>Roma</td>\n",
              "      <td>-19.0</td>\n",
              "      <td>NaN</td>\n",
              "      <td>2018</td>\n",
              "    </tr>\n",
              "    <tr>\n",
              "      <th>745</th>\n",
              "      <td>Gravity</td>\n",
              "      <td>-19.0</td>\n",
              "      <td>274,092,705</td>\n",
              "      <td>2013</td>\n",
              "    </tr>\n",
              "    <tr>\n",
              "      <th>875</th>\n",
              "      <td>Fantasia</td>\n",
              "      <td>-19.0</td>\n",
              "      <td>76,408,097</td>\n",
              "      <td>1940</td>\n",
              "    </tr>\n",
              "    <tr>\n",
              "      <th>492</th>\n",
              "      <td>4 luni, 3 saptamâni si 2 zile</td>\n",
              "      <td>-18.0</td>\n",
              "      <td>1,185,783</td>\n",
              "      <td>2007</td>\n",
              "    </tr>\n",
              "    <tr>\n",
              "      <th>525</th>\n",
              "      <td>My Left Foot: The Story of Christy Brown</td>\n",
              "      <td>-18.0</td>\n",
              "      <td>14,743,391</td>\n",
              "      <td>1989</td>\n",
              "    </tr>\n",
              "    <tr>\n",
              "      <th>543</th>\n",
              "      <td>The Wild Bunch</td>\n",
              "      <td>-18.0</td>\n",
              "      <td>12,064,472</td>\n",
              "      <td>1969</td>\n",
              "    </tr>\n",
              "    <tr>\n",
              "      <th>564</th>\n",
              "      <td>The Adventures of Robin Hood</td>\n",
              "      <td>-18.0</td>\n",
              "      <td>3,981,000</td>\n",
              "      <td>1938</td>\n",
              "    </tr>\n",
              "    <tr>\n",
              "      <th>580</th>\n",
              "      <td>Manchester by the Sea</td>\n",
              "      <td>-18.0</td>\n",
              "      <td>47,695,120</td>\n",
              "      <td>2016</td>\n",
              "    </tr>\n",
              "    <tr>\n",
              "      <th>748</th>\n",
              "      <td>The Social Network</td>\n",
              "      <td>-18.0</td>\n",
              "      <td>96,962,694</td>\n",
              "      <td>2010</td>\n",
              "    </tr>\n",
              "  </tbody>\n",
              "</table>\n",
              "</div>"
            ],
            "text/plain": [
              "                                 Series_Title  ...  Released_Year\n",
              "491                                   Boyhood  ...           2014\n",
              "559                                 Notorious  ...           1946\n",
              "423                            Il conformista  ...           1970\n",
              "440                    Sweet Smell of Success  ...           1957\n",
              "714                         The Lady Vanishes  ...           1938\n",
              "994                        A Hard Day's Night  ...           1964\n",
              "260                     Trois couleurs: Rouge  ...           1994\n",
              "274                       Fanny och Alexander  ...           1982\n",
              "438                             Touch of Evil  ...           1958\n",
              "442                   The Night of the Hunter  ...           1955\n",
              "706                              Jules et Jim  ...           1962\n",
              "720                                      Roma  ...           2018\n",
              "745                                   Gravity  ...           2013\n",
              "875                                  Fantasia  ...           1940\n",
              "492             4 luni, 3 saptamâni si 2 zile  ...           2007\n",
              "525  My Left Foot: The Story of Christy Brown  ...           1989\n",
              "543                            The Wild Bunch  ...           1969\n",
              "564              The Adventures of Robin Hood  ...           1938\n",
              "580                     Manchester by the Sea  ...           2016\n",
              "748                        The Social Network  ...           2010\n",
              "\n",
              "[20 rows x 4 columns]"
            ]
          },
          "metadata": {
            "tags": []
          },
          "execution_count": 31
        }
      ]
    },
    {
      "cell_type": "code",
      "metadata": {
        "colab": {
          "base_uri": "https://localhost:8080/",
          "height": 447
        },
        "id": "-4d0kUbwHl1j",
        "outputId": "7a9ddfb2-fd17-4ea4-aee0-99c144d64900"
      },
      "source": [
        "#Fixing the row with ReleasedYear == PG\n",
        "df[\"Released_Year\"] = pandas.to_numeric(df[\"Released_Year\"], errors = \"coerce\") #any invalid value will turn to NaN\n",
        "plt.figure(figsize=(13,7))\n",
        "df2000_2010 = df[(df[\"Released_Year\"]>= 2000) & (df[\"Released_Year\"]<= 2010) ]\n",
        "sns.scatterplot(data=df2000_2010, x=\"IMDB_Rating\", y=\"Meta_score\", hue=\"Runtime_minutes\")\n"
      ],
      "execution_count": null,
      "outputs": [
        {
          "output_type": "execute_result",
          "data": {
            "text/plain": [
              "<matplotlib.axes._subplots.AxesSubplot at 0x7f68b04e5b10>"
            ]
          },
          "metadata": {
            "tags": []
          },
          "execution_count": 54
        },
        {
          "output_type": "display_data",
          "data": {
            "image/png": "[encoded data removed]",
            "text/plain": [
              "<Figure size 936x504 with 1 Axes>"
            ]
          },
          "metadata": {
            "tags": []
          }
        }
      ]
    },
    {
      "cell_type": "code",
      "metadata": {
        "colab": {
          "base_uri": "https://localhost:8080/"
        },
        "id": "QkAB-FqsK7rh",
        "outputId": "6fb6cd04-a120-4cec-93ad-36c478edeb86"
      },
      "source": [
        "df.columns\n",
        "print(df.Gross_int)"
      ],
      "execution_count": null,
      "outputs": [
        {
          "output_type": "stream",
          "text": [
            "0       28341469.0\n",
            "1      134966411.0\n",
            "2      534858444.0\n",
            "3       57300000.0\n",
            "4        4360000.0\n",
            "          ...     \n",
            "995            NaN\n",
            "996            NaN\n",
            "997     30500000.0\n",
            "998            NaN\n",
            "999            NaN\n",
            "Name: Gross_int, Length: 1000, dtype: float64\n"
          ],
          "name": "stdout"
        }
      ]
    },
    {
      "cell_type": "markdown",
      "metadata": {
        "id": "IUjuPZ9_CUkW"
      },
      "source": [
        "\n",
        "## **Final Deliverable**"
      ]
    },
    {
      "cell_type": "markdown",
      "metadata": {
        "id": "AroFpzSaCXDa"
      },
      "source": [
        "Your final submission should consist of captioned visualizations detailing your most important insights. You will also work on writing and posting a blog to medium or your github website. Your “insights” can include important surprises or issues (such as data quality problems affecting your analysis) as well as responses to your analysis questions.\n",
        "\n",
        "Each visualization image should be a screenshot accompanied with a title and descriptive caption (1-4 sentences long) describing the insight(s) learned from that view. Provide sufficient detail for each caption such that anyone could read through your report and understand what you’ve learned. You are free, but not required, to annotate your images to draw attention to specific features of the data. \n",
        "\n",
        "Do not submit a blog cluttered with everything little thing you tried. Submit a clean report that highlights the most important “milestones” in your exploration, which can include initial overviews, identification of data quality problems, confirmations of key assumptions, and potential “discoveries”. Your blog should only present the final dataset you analyzed and should not describe any iterations on earlier datasets you might have initially explored."
      ]
    },
    {
      "cell_type": "markdown",
      "metadata": {
        "id": "XlvqVKO3CZxv"
      },
      "source": [
        "## **Data Sources**"
      ]
    },
    {
      "cell_type": "markdown",
      "metadata": {
        "id": "3tHXuSJ3CaiO"
      },
      "source": [
        "There are a variety of data sources available online. Here are some possible sources to consider. If you have any questions about whether your dataset is appropriate, please talk to the TAs.\n",
        "\n",
        "**Data is Plural** - Variety of datasets and sources covering many topics.\n",
        "\n",
        "https://data.gov - U.S. Government open datasets.\n",
        "\n",
        "U.S. Census Bureau - Census data - https://data.census.gov/\n",
        "\n",
        "Federal Elections Commission - Campaign finance and expenditures. - https://www.fec.gov/data/\n",
        "\n",
        "Federal Aviation Administration - FAA data - https://www.faa.gov/data_research/\n",
        "\n",
        "https://www.kaggle.com/\n",
        "\n",
        "https://archive.ics.uci.edu/ml/index.php\n",
        "\n",
        "https://github.com/awesomedata/awesome-public-datasets - Awesome Public Datasets - Variety of public datasets.\n",
        "\n",
        "Stanford Cable TV News Analyzer - We have recently released a tool that can be used to analyze who and what appears in the last decade of Cable TV News (i.e. CNN, Fox News, MSNBC). The site lets you download data as well which you could use to conduct further analysis. - https://tvnews.stanford.edu/data"
      ]
    },
    {
      "cell_type": "markdown",
      "metadata": {
        "id": "r1dkn1c9CtjY"
      },
      "source": [
        "### **Visualization Tool (matplotlib, seaborn, etc)**"
      ]
    },
    {
      "cell_type": "markdown",
      "metadata": {
        "id": "HDf8VHW7Cv2l"
      },
      "source": [
        "One goal of this assignment is for you to learn to use and evaluate the effectiveness of these packages. In addition to these packages, you are free to also use other visualization tools as you see fit, for example, you could also take a look at Tableau."
      ]
    },
    {
      "cell_type": "markdown",
      "metadata": {
        "id": "VlUMHuXCCzRa"
      },
      "source": [
        "### **Data Wrangling Tools**"
      ]
    },
    {
      "cell_type": "markdown",
      "metadata": {
        "id": "uPjA2VABC1fA"
      },
      "source": [
        "The data you choose may require reformatting, transformation or cleaning prior to visualization. You can use Pandas for data preparation. "
      ]
    },
    {
      "cell_type": "markdown",
      "metadata": {
        "id": "RG61l1mTC3ju"
      },
      "source": [
        "### **Grading**"
      ]
    },
    {
      "cell_type": "markdown",
      "metadata": {
        "id": "ESbDdwRzC5aM"
      },
      "source": [
        "Each submission will be graded based on both the analysis process and the included visualizations. Here are our grading criteria:\n",
        "\n",
        "**Appropriate Data Assessment (5):** Overview/understanding of the data is built from transformations and appropriate assessment of data quality. Poses clear questions.\n",
        "\n",
        "**Exploration Thoroughness (5):** Sufficient breadth of analysis, exploring questions in sufficient depth (with appropriate follow-up questions).\n",
        "\n",
        "**Documentation (Blog) (5):** Clear documentation of exploratory process, including clearly written, understandable captions that communicate primary insights.\n",
        "\n",
        "**Appropriate use of Numpy, Pandas, and Matplotlib (5)**  to ingest, clean, and present the data"
      ]
    },
    {
      "cell_type": "markdown",
      "metadata": {
        "id": "TJrX_ynfC7Pp"
      },
      "source": [
        "### **Submission Details**"
      ]
    },
    {
      "cell_type": "markdown",
      "metadata": {
        "id": "gM4CysyYC9dA"
      },
      "source": [
        "This is an individual assignment. You may not work in groups. The assignment is due on Sunday (03/07/2021)\n",
        "\n",
        "To submit your assignment, download your notebook and zip all the necessary files(data files). Submit the zipped file to balckboard. Make sure the notebook and the zipped file is named in the format - EDA_LastName_FirstName. Be sure to include the link to access your blog in your notebook.\n",
        "\n",
        "Also include the link to your notebook in the submission. \n",
        "\n",
        "We will provide more details on the blog during the next week of class.\n",
        "\n",
        "**Note** - If the dataset is too large to be zipped and submitted on blackboard, only submit your notebook, add your dataset to your google drive and share a link to the file in your notebook."
      ]
    }
  ]
}